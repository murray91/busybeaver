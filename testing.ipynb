{
 "metadata": {
  "language_info": {
   "codemirror_mode": {
    "name": "ipython",
    "version": 3
   },
   "file_extension": ".py",
   "mimetype": "text/x-python",
   "name": "python",
   "nbconvert_exporter": "python",
   "pygments_lexer": "ipython3",
   "version": "3.8.6-final"
  },
  "orig_nbformat": 2,
  "kernelspec": {
   "name": "python3",
   "display_name": "Python 3",
   "language": "python"
  }
 },
 "nbformat": 4,
 "nbformat_minor": 2,
 "cells": [
  {
   "cell_type": "code",
   "execution_count": 6,
   "metadata": {},
   "outputs": [],
   "source": [
    "#point to interpolate\n",
    "xi = 594234.072\n",
    "yi = 6645073.994\n",
    "zi_asc = 0.2064\n",
    "\n",
    "# ++ quad beginning, moving clockwise\n",
    "x0 = 594234.372\n",
    "y0 = 6645074.495\n",
    "d0 = 0.193366184830666\n",
    "\n",
    "x3=594234.083\n",
    "y3=6645073.167\n",
    "d3=0.046349670737982\n",
    "\n",
    "x2=594232.508\n",
    "y2=6645072.822\n",
    "d2=0.087193258106709\n",
    "\n",
    "x1=594233.053\n",
    "y1=6645075.318\n",
    "d1=0.362476646900177"
   ]
  },
  {
   "cell_type": "code",
   "execution_count": 22,
   "metadata": {},
   "outputs": [
    {
     "output_type": "stream",
     "name": "stdout",
     "text": [
      "A1 = 594234.372\nA2 = 6645074.495\nB1 = -1.3190000000176951\nB2 = 0.822999999858439\nC1 = -0.28899999998975545\nC2 = -1.3279999997466803\nD1 = -0.25599999993573874\nD2 = -1.1680000005289912\n"
     ]
    }
   ],
   "source": [
    "A1=x0\n",
    "print(\"A1 = {}\".format(A1))\n",
    "A2=y0\n",
    "print(\"A2 = {}\".format(A2))\n",
    "B1=x1-x0\n",
    "print(\"B1 = {}\".format(B1))\n",
    "B2=y1-y0\n",
    "print(\"B2 = {}\".format(B2))\n",
    "C1=x3-x0\n",
    "print(\"C1 = {}\".format(C1))\n",
    "C2=y3-y0\n",
    "print(\"C2 = {}\".format(C2))\n",
    "D1=x2-x1+x0-x3\n",
    "print(\"D1 = {}\".format(D1))\n",
    "D2=y2-y1+y0-y3\n",
    "print(\"D2 = {}\".format(D2))\n",
    "\n",
    "a = D1*B2 - D2*B1\n",
    "b = D2*xi - D1*yi - D2*A1 + D1*A2 + C1*B2 - C2*B1\n",
    "c = C2*xi - C1*yi + C1*A2 - C2*A1"
   ]
  },
  {
   "cell_type": "code",
   "execution_count": 24,
   "metadata": {},
   "outputs": [
    {
     "output_type": "execute_result",
     "data": {
      "text/plain": [
       "0.1274126109791086"
      ]
     },
     "metadata": {},
     "execution_count": 24
    }
   ],
   "source": [
    "dx = (-b-(b**2-4*a*c)**0.5)/(2*a)\n",
    "dx"
   ]
  },
  {
   "cell_type": "code",
   "execution_count": 26,
   "metadata": {},
   "outputs": [
    {
     "output_type": "execute_result",
     "data": {
      "text/plain": [
       "0.5146327543098219"
      ]
     },
     "metadata": {},
     "execution_count": 26
    }
   ],
   "source": [
    "dy = (xi-A1-B1*dx)/(C1-D1*dx)\n",
    "dy"
   ]
  },
  {
   "cell_type": "code",
   "execution_count": 28,
   "metadata": {},
   "outputs": [
    {
     "output_type": "execute_result",
     "data": {
      "text/plain": [
       "0.21524856945309362"
      ]
     },
     "metadata": {},
     "execution_count": 28
    }
   ],
   "source": [
    "zi = (1-dx)*(1-dy)*d2 + dx*(1-dy)*d3 + (1-dx)*dy*d1 + dx*dy*d0\n",
    "zi"
   ]
  },
  {
   "cell_type": "code",
   "execution_count": null,
   "metadata": {},
   "outputs": [],
   "source": []
  }
 ]
}